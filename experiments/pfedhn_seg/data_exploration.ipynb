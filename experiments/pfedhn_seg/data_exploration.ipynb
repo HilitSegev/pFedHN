{
 "cells": [
  {
   "cell_type": "code",
   "execution_count": 2,
   "outputs": [],
   "source": [
    "import numpy as np\n",
    "import matplotlib.pyplot as plt\n",
    "\n",
    "from custom_datasets import Promise12, MedicalSegmentationDecathlon, NciIsbi2013, PROSTATEx"
   ],
   "metadata": {
    "collapsed": false,
    "pycharm": {
     "name": "#%%\n"
    }
   }
  },
  {
   "cell_type": "code",
   "execution_count": 3,
   "outputs": [],
   "source": [
    "# Load Data"
   ],
   "metadata": {
    "collapsed": false,
    "pycharm": {
     "name": "#%%\n"
    }
   }
  },
  {
   "cell_type": "code",
   "execution_count": 16,
   "outputs": [
    {
     "name": "stdout",
     "output_type": "stream",
     "text": [
      "Promise12 000 : 45.930096 38.306763\n",
      "Promise12 001 : 51.77103 41.597546\n",
      "Promise12 002 : 52.067852 37.212315\n",
      "Promise12 003 : 54.312126 35.06774\n",
      "MedicalSegmentationDecathlon 000 : 48.78780924479167 39.067541272429565\n",
      "MedicalSegmentationDecathlon 001 : 56.34123942057292 41.60579666629728\n",
      "MedicalSegmentationDecathlon 002 : 55.44672444661458 36.64987814393674\n",
      "MedicalSegmentationDecathlon 003 : 21.164823404947917 17.846348333416262\n",
      "NciIsbi2013 000 : 51.99305419921875 43.2528927647339\n",
      "NciIsbi2013 001 : 48.99097900390625 33.27776665312452\n",
      "NciIsbi2013 002 : 56.29886474609375 42.026695931416256\n",
      "NciIsbi2013 003 : 30.160945638020834 27.84907020144363\n",
      "NciIsbi2013 004 : 13.752701822916666 10.931108661995877\n",
      "NciIsbi2013 005 : 15.523954264322917 11.881706059675658\n",
      "NciIsbi2013 006 : 25.451131184895832 15.990926978382861\n",
      "NciIsbi2013 007 : 13.886722819010417 9.088870459495272\n",
      "PROSTATEx 000 : 44.21499837239583 30.512182046502836\n",
      "PROSTATEx 001 : 60.658056640625 42.46244599473948\n",
      "PROSTATEx 002 : 56.91031494140625 37.465524748008676\n",
      "PROSTATEx 003 : 40.68995768229167 33.31908525335899\n"
     ]
    }
   ],
   "source": [
    "for dataset_obj in [Promise12, MedicalSegmentationDecathlon, NciIsbi2013, PROSTATEx]:\n",
    "    dataset = dataset_obj(root_dir='data')\n",
    "    for i in range(len(dataset)):\n",
    "        image, label = dataset[i]\n",
    "        print(dataset_obj.__name__, str(i).zfill(3), \":\", image.mean(), image.std())"
   ],
   "metadata": {
    "collapsed": false,
    "pycharm": {
     "name": "#%%\n"
    }
   }
  },
  {
   "cell_type": "code",
   "execution_count": 13,
   "outputs": [
    {
     "name": "stdout",
     "output_type": "stream",
     "text": [
      "000 : 45.930096 38.306763\n",
      "001 : 51.77103 41.597546\n",
      "002 : 52.067852 37.212315\n",
      "003 : 54.312126 35.06774\n"
     ]
    }
   ],
   "source": [],
   "metadata": {
    "collapsed": false,
    "pycharm": {
     "name": "#%%\n"
    }
   }
  }
 ],
 "metadata": {
  "kernelspec": {
   "display_name": "Python 3",
   "language": "python",
   "name": "python3"
  },
  "language_info": {
   "codemirror_mode": {
    "name": "ipython",
    "version": 2
   },
   "file_extension": ".py",
   "mimetype": "text/x-python",
   "name": "python",
   "nbconvert_exporter": "python",
   "pygments_lexer": "ipython2",
   "version": "2.7.6"
  }
 },
 "nbformat": 4,
 "nbformat_minor": 0
}